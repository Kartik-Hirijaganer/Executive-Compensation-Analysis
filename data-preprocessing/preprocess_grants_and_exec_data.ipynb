{
  "cells": [
    {
      "cell_type": "markdown",
      "metadata": {
        "id": "U7cqeyOTArWm"
      },
      "source": [
        "# Import required libraries"
      ]
    },
    {
      "cell_type": "code",
      "execution_count": 26,
      "metadata": {
        "id": "QFcm1izUArWq"
      },
      "outputs": [],
      "source": [
        "import pandas as pd\n",
        "import numpy as np\n",
        "import matplotlib as plt\n",
        "import re\n",
        "from sentence_transformers import SentenceTransformer\n",
        "from sklearn.cluster import KMeans\n",
        "import matplotlib.pyplot as plt\n",
        "import plotly.express as px\n",
        "from sklearn.decomposition import PCA"
      ]
    },
    {
      "cell_type": "code",
      "execution_count": 15,
      "metadata": {
        "colab": {
          "base_uri": "https://localhost:8080/"
        },
        "id": "-1ycYlO0Au6u",
        "outputId": "3e2d8d27-3ccc-408f-86bf-0001f58cc34d"
      },
      "outputs": [
        {
          "name": "stdout",
          "output_type": "stream",
          "text": [
            "Drive already mounted at /content/drive/; to attempt to forcibly remount, call drive.mount(\"/content/drive/\", force_remount=True).\n"
          ]
        }
      ],
      "source": [
        "from google.colab import drive\n",
        "drive.mount('/content/drive/')"
      ]
    },
    {
      "cell_type": "code",
      "execution_count": 16,
      "metadata": {
        "id": "jraovSObBTWq"
      },
      "outputs": [],
      "source": [
        "import os\n",
        "os.chdir('/content/drive/My Drive/DataTerps-Project')"
      ]
    },
    {
      "cell_type": "markdown",
      "metadata": {
        "id": "KlDG86ubArWq"
      },
      "source": [
        "# Extract required data from CSV files"
      ]
    },
    {
      "cell_type": "code",
      "execution_count": 17,
      "metadata": {
        "id": "tMLJLoVLArWr"
      },
      "outputs": [],
      "source": [
        "employee_data = pd.read_csv(\"data/Executive_IRS_2024_2023.csv\")\n",
        "all_companies = pd.read_csv(\"data/final_all_companies.csv\")\n",
        "all_federal = pd.read_csv(\"data/grant_details.csv\")\n",
        "company_info = pd.read_csv(\"data/required_columns.csv\")\n",
        "# filtered_df_federal.to_csv(\"data/federal_company_data.csv\")"
      ]
    },
    {
      "cell_type": "code",
      "execution_count": 18,
      "metadata": {
        "id": "ikTDaByaArWr"
      },
      "outputs": [],
      "source": [
        "employee_data.rename(columns={'Organization Name':'company_names'}, inplace=True)\n",
        "filtered_df_federal = employee_data.merge(all_federal, how=\"inner\", on=\"company_names\")\n",
        "company_info.rename(columns={\"Unique ID\":\"uei\"}, inplace=True)\n",
        "company_info.rename(columns={\"Legal_Business_Name\":\"company_names\"}, inplace=True)\n",
        "\n",
        "# Creating seperate list of Federal and Non-Federal companies\n",
        "federal_list = list(all_federal[\"company_names\"].unique())\n",
        "non_federal_list = list(set(all_companies[\"Organization Name\"]) - set(federal_list))\n",
        "\n",
        "# Selecting only companies for which we have executive data\n",
        "filtered_df_non_federal = employee_data[employee_data[\"company_names\"].isin(non_federal_list)]\n",
        "\n",
        "# Merging company properties data with federal grant data\n",
        "filtered_df_federal = filtered_df_federal.merge(company_info, how=\"inner\", on=\"uei\")"
      ]
    },
    {
      "cell_type": "markdown",
      "metadata": {
        "id": "_BsusR6EArWr"
      },
      "source": [
        "### Merging company properties data with executive data for both Federal Grant receiving and Non Federal receiving companies"
      ]
    },
    {
      "cell_type": "code",
      "execution_count": 19,
      "metadata": {
        "colab": {
          "base_uri": "https://localhost:8080/"
        },
        "id": "9cTtmmF0ArWr",
        "outputId": "e26fd972-1236-436e-df92-01964da0baea"
      },
      "outputs": [
        {
          "data": {
            "text/plain": [
              "Index(['company_names', 'EIN', 'Executive Name', 'Title',\n",
              "       'Base Compensation ($)', 'Bonus Compensation ($)',\n",
              "       'Other Compensation ($)', 'Total Compensation ($)', 'Source File',\n",
              "       'year', 'uei', 'grants', 'index', 'Cage', 'Purpose of Registration',\n",
              "       'Registration Date', 'Activation Date', 'Legal Business Name',\n",
              "       'Physical Address', 'City', 'State', 'Zip Code', 'Country Code',\n",
              "       'Entity Structure', 'State of Incorporation', 'Business Type',\n",
              "       'Buyer/Seller Role', 'Govt Credit Card Payment'],\n",
              "      dtype='object')"
            ]
          },
          "execution_count": 19,
          "metadata": {},
          "output_type": "execute_result"
        }
      ],
      "source": [
        "filtered_df_federal.columns"
      ]
    },
    {
      "cell_type": "code",
      "execution_count": 20,
      "metadata": {
        "colab": {
          "base_uri": "https://localhost:8080/",
          "height": 489
        },
        "id": "IRyPAxizArWr",
        "outputId": "cb65cfe7-12ea-45e5-c64f-8b45a5330ffb"
      },
      "outputs": [
        {
          "data": {
            "text/html": [
              "<div>\n",
              "<style scoped>\n",
              "    .dataframe tbody tr th:only-of-type {\n",
              "        vertical-align: middle;\n",
              "    }\n",
              "\n",
              "    .dataframe tbody tr th {\n",
              "        vertical-align: top;\n",
              "    }\n",
              "\n",
              "    .dataframe thead th {\n",
              "        text-align: right;\n",
              "    }\n",
              "</style>\n",
              "<table border=\"1\" class=\"dataframe\">\n",
              "  <thead>\n",
              "    <tr style=\"text-align: right;\">\n",
              "      <th></th>\n",
              "      <th>count</th>\n",
              "    </tr>\n",
              "    <tr>\n",
              "      <th>grants</th>\n",
              "      <th></th>\n",
              "    </tr>\n",
              "  </thead>\n",
              "  <tbody>\n",
              "    <tr>\n",
              "      <th>0.00</th>\n",
              "      <td>25119</td>\n",
              "    </tr>\n",
              "    <tr>\n",
              "      <th>3770019.35</th>\n",
              "      <td>5385</td>\n",
              "    </tr>\n",
              "    <tr>\n",
              "      <th>10000.00</th>\n",
              "      <td>2817</td>\n",
              "    </tr>\n",
              "    <tr>\n",
              "      <th>1000000.00</th>\n",
              "      <td>2762</td>\n",
              "    </tr>\n",
              "    <tr>\n",
              "      <th>300000.00</th>\n",
              "      <td>2473</td>\n",
              "    </tr>\n",
              "    <tr>\n",
              "      <th>...</th>\n",
              "      <td>...</td>\n",
              "    </tr>\n",
              "    <tr>\n",
              "      <th>-31368.35</th>\n",
              "      <td>1</td>\n",
              "    </tr>\n",
              "    <tr>\n",
              "      <th>-20000.00</th>\n",
              "      <td>1</td>\n",
              "    </tr>\n",
              "    <tr>\n",
              "      <th>265492.00</th>\n",
              "      <td>1</td>\n",
              "    </tr>\n",
              "    <tr>\n",
              "      <th>11000.00</th>\n",
              "      <td>1</td>\n",
              "    </tr>\n",
              "    <tr>\n",
              "      <th>97500.00</th>\n",
              "      <td>1</td>\n",
              "    </tr>\n",
              "  </tbody>\n",
              "</table>\n",
              "<p>4037 rows × 1 columns</p>\n",
              "</div><br><label><b>dtype:</b> int64</label>"
            ],
            "text/plain": [
              "grants\n",
              " 0.00          25119\n",
              " 3770019.35     5385\n",
              " 10000.00       2817\n",
              " 1000000.00     2762\n",
              " 300000.00      2473\n",
              "               ...  \n",
              "-31368.35          1\n",
              "-20000.00          1\n",
              " 265492.00         1\n",
              " 11000.00          1\n",
              " 97500.00          1\n",
              "Name: count, Length: 4037, dtype: int64"
            ]
          },
          "execution_count": 20,
          "metadata": {},
          "output_type": "execute_result"
        }
      ],
      "source": [
        "# Grouping data by company. Group by 'c_n' and count unique 'co'\n",
        "group_company = filtered_df_federal.groupby(\"company_names\")\n",
        "result = filtered_df_federal.groupby('company_names')['Country Code'].nunique().reset_index()\n",
        "result.columns = ['company_names', 'unique_co_count']\n",
        "result.sort_values(by = \"unique_co_count\", ascending=False)\n",
        "\n",
        "# Merging federal company properties\n",
        "filtered_df_federal[\"grants\"].value_counts()"
      ]
    },
    {
      "cell_type": "markdown",
      "metadata": {
        "id": "ke_k-SbwArWs"
      },
      "source": [
        "# Merge"
      ]
    },
    {
      "cell_type": "code",
      "execution_count": 21,
      "metadata": {
        "id": "NHLV1C61ArWs"
      },
      "outputs": [],
      "source": [
        "# filtered_df_federal = filtered_df_federal.merge(company_info, how=\"inner\", on=\"uei\")\n",
        "filtered_df_federal.describe(percentiles=[0.1, 0.25, 0.5, 0.75, 0.95])\n",
        "\n",
        "filtered_df = filtered_df_federal[filtered_df_federal[\"grants\"]>0]\n",
        "filtered_df = filtered_df[filtered_df[\"grants\"]<28000000]\n",
        "filtered_df = filtered_df[filtered_df[\"grants\"]<10000000]"
      ]
    },
    {
      "cell_type": "code",
      "execution_count": 22,
      "metadata": {
        "colab": {
          "base_uri": "https://localhost:8080/",
          "height": 465
        },
        "id": "FpflQbZHArWs",
        "outputId": "1174e644-3850-40cb-bd5e-4298a20902c7"
      },
      "outputs": [
        {
          "data": {
            "text/plain": [
              "<Axes: >"
            ]
          },
          "execution_count": 22,
          "metadata": {},
          "output_type": "execute_result"
        },
        {
          "data": {
            "image/png": "[encoded data removed]",
            "text/plain": [
              "<Figure size 640x480 with 1 Axes>"
            ]
          },
          "metadata": {},
          "output_type": "display_data"
        }
      ],
      "source": [
        "filtered_df[\"grants\"].hist(bins=100)"
      ]
    },
    {
      "cell_type": "code",
      "execution_count": 23,
      "metadata": {
        "colab": {
          "base_uri": "https://localhost:8080/",
          "height": 447
        },
        "id": "G_qA2DwrArWs",
        "outputId": "732483c4-254a-4e3f-cb5a-8a07d510ac92"
      },
      "outputs": [
        {
          "data": {
            "text/plain": [
              "<Axes: >"
            ]
          },
          "execution_count": 23,
          "metadata": {},
          "output_type": "execute_result"
        },
        {
          "data": {
            "image/png": "[encoded data removed]",
            "text/plain": [
              "<Figure size 640x480 with 1 Axes>"
            ]
          },
          "metadata": {},
          "output_type": "display_data"
        }
      ],
      "source": [
        "\n",
        "# Replace values in the 'grants' column with their logarithmic values\n",
        "filtered_df[\"grants\"] = np.log(filtered_df[\"grants\"])\n",
        "filtered_df[\"grants\"].hist(bins=100)"
      ]
    },
    {
      "cell_type": "code",
      "execution_count": 25,
      "metadata": {
        "id": "a2Ms8V3eArWt"
      },
      "outputs": [],
      "source": [
        "# Dictionary mapping abbreviations to full forms\n",
        "abbreviation_map = {\n",
        "    r\"\\bDIR\\b\": \"Director\",\n",
        "    r\"\\bVP\\b\": \"Vice President\",\n",
        "    r\"\\bCEO\\b\": \"Chief Executive Officer\",\n",
        "    r\"\\bCFO\\b\": \"Chief Financial Officer\",\n",
        "    r\"\\bCOO\\b\": \"Chief Operations Officer\",\n",
        "    r\"\\bSR\\.\\b\": \"Senior\",\n",
        "    r\"\\bPROF\\.\\b\": \"Professor\",\n",
        "    r\"\\bEVP\\b\": \"Executive Vice President\",\n",
        "    r\"\\bSR\\b\": \"Senior\"  # Handles SR without a period\n",
        "}\n",
        "\n",
        "# Function to replace abbreviations with full forms\n",
        "def expand_abbreviations_in_text(text, abbreviation_map):\n",
        "    for abbr, full_form in abbreviation_map.items():\n",
        "        text = re.sub(abbr, full_form, text)\n",
        "    return text\n",
        "\n",
        "# Example DataFrame\n",
        "data = {\n",
        "    \"Job Titles\": [\n",
        "        \"DIR of Engineering\",\n",
        "        \"VP of Marketing\",\n",
        "        \"CEO and Founder\",\n",
        "        \"CFO of Finance\",\n",
        "        \"COO of Operations\",\n",
        "        \"SR. Software Engineer\",\n",
        "        \"PROF. of Mathematics\",\n",
        "        \"EVP of Sales\",\n",
        "        \"SR Product Manager\",\n",
        "        \"DIRECTOR of Finance\"\n",
        "    ]\n",
        "}\n",
        "\n",
        "\n",
        "# Apply the abbreviation expansion to the DataFrame column\n",
        "filtered_df[\"Expanded Job Titles\"] = filtered_df[\"Title\"].apply(lambda x: expand_abbreviations_in_text(x, abbreviation_map))\n",
        "filtered_df[\"Title\"] = filtered_df[\"Title\"].str.upper()"
      ]
    },
    {
      "cell_type": "code",
      "execution_count": 28,
      "metadata": {
        "id": "_t33vyMaFQDg"
      },
      "outputs": [],
      "source": [
        "# Decode table as a dictionary\n",
        "decode_table = {\n",
        "    '2R': 'U.S Federal Government',\n",
        "    '2F': 'U.S. State Government',\n",
        "    '12': 'U.S. Local Government',\n",
        "    '3I': 'Tribal Government',\n",
        "    'CY': 'Foreign Government',\n",
        "    'A7': 'AbilityOne Non Profit Agency',\n",
        "    '20': 'Foreign Owned',\n",
        "    'JS': 'Small Business Joint Venture',\n",
        "    '1D': 'Small Agricultural Cooperative',\n",
        "    'LJ': 'Limited Liability Company',\n",
        "    'XS': 'Subchapter S Corporation',\n",
        "    'MF': 'Manufacturer of Goods',\n",
        "    '2X': 'For Profit Organization',\n",
        "    'A8': 'Non-Profit Organization',\n",
        "    '2U': 'Other Not For Profit Organization',\n",
        "    'HK': 'Community Development Corporation Owned Firm',\n",
        "    'A3': 'Labor Surplus Area Firm',\n",
        "    'A5': 'Veteran-Owned Business',\n",
        "    'QF': 'Service-Disabled Veteran-Owned Business',\n",
        "    'JV': 'Service-Disabled Veteran-Owned Business Joint Venture',\n",
        "    'A2': 'Women-Owned Business',\n",
        "    '23': 'Minority-Owned Business',\n",
        "    'FR': 'Asian-Pacific American Owned',\n",
        "    'QZ': 'Subcontinent Asian (Asian-Indian) American Owned',\n",
        "    'OY': 'Black American Owned',\n",
        "    'PI': 'Hispanic American Owned',\n",
        "    'NB': 'Native American Owned',\n",
        "    '8W': 'Women-Owned Small Business',\n",
        "    '27': 'Self Certified Small Disadvantaged Business',\n",
        "    '8C': 'Women-Owned Small Business (WOSB) Joint Venture Eligible under the WOSB Program',\n",
        "    '8D': 'Economically Disadvantaged Women-Owned Small Business (EDWOSB) Joint Venture',\n",
        "    'NG': 'Federal Agency',\n",
        "    'QW': 'Federally Funded Research and Development Center',\n",
        "    'C8': 'City',\n",
        "    'C7': 'County',\n",
        "    'ZR': 'Inter-municipal',\n",
        "    'MG': 'Local Government Owned',\n",
        "    'C6': 'Municipality',\n",
        "    'H6': 'School District',\n",
        "    'TW': 'Transit Authority',\n",
        "    'UD': 'Council of Governments',\n",
        "    '8B': 'Housing Authorities Public/Tribal',\n",
        "    '86': 'Interstate Entity',\n",
        "    'KM': 'Planning Commission',\n",
        "    'T4': 'Port Authority',\n",
        "    'H2': 'Community Development Corporation',\n",
        "    '6D': 'Domestic Shelter',\n",
        "    'M8': 'Educational Institution',\n",
        "    'G6': '1862 Land Grant College',\n",
        "    'G7': '1890 Land Grant College',\n",
        "    'G8': '1994 Land Grant College',\n",
        "    'HB': 'Historically Black College or University',\n",
        "    '1A': 'Minority Institution',\n",
        "    '1R': 'Private University or College',\n",
        "    'ZW': 'School of Forestry',\n",
        "    'GW': 'Hispanic Servicing Institution',\n",
        "    'OH': 'State Controlled Institution of Higher Learning',\n",
        "    'HS': 'Tribal College',\n",
        "    'QU': 'Veterinary College',\n",
        "    'G3': 'Alaskan Native Servicing Institution',\n",
        "    'G5': 'Native Hawaiian Servicing Institution',\n",
        "    'BZ': 'Foundation',\n",
        "    '80': 'Hospital',\n",
        "    'FY': 'Veterinary Hospital',\n",
        "    'HQ': 'DOT Certified DBE',\n",
        "    '05': 'Alaskan Native Corporation Owned Firm',\n",
        "    'OW': 'American Indian Owned',\n",
        "    'XY': 'Indian Tribe (Federally Recognized)',\n",
        "    '8U': 'Native Hawaiian Organization Owned Firm',\n",
        "    '1B': 'Tribally Owned Firm',\n",
        "    'FO': 'Township',\n",
        "    'TR': 'Airport Authority',\n",
        "    'G9': 'Individual or concern, other than one of the proceeding',\n",
        "    'JX': 'Self-Certified HUBZone Joint Venture',\n",
        "    '1E': 'Indian Economic Enterprise',\n",
        "    '1S': 'Indian Small Business Economic Enterprise',\n",
        "    'V2 **': 'Grants',\n",
        "    'VW **': 'Contracts and Grants',\n",
        "}\n",
        "\n",
        "\n",
        "\n",
        "# Function to decode a code string\n",
        "def decode_codes(code_string):\n",
        "    codes = code_string.split('~')\n",
        "    return ', '.join([decode_table.get(code, f\"Unknown Code ({code})\") for code in codes])\n",
        "\n",
        "# Apply decoding\n",
        "filtered_df['Decoded Business Type'] = filtered_df['Business Type'].apply(decode_codes)\n",
        "\n",
        "# # Display result\n",
        "# print(df)\n"
      ]
    },
    {
      "cell_type": "code",
      "execution_count": 29,
      "metadata": {
        "id": "pz4UcrgMG22e"
      },
      "outputs": [],
      "source": [
        "filtered_df.to_csv(\"data/federal_companies_executive_data.csv\")"
      ]
    }
  ],
  "metadata": {
    "colab": {
      "provenance": []
    },
    "kernelspec": {
      "display_name": "base",
      "language": "python",
      "name": "python3"
    },
    "language_info": {
      "codemirror_mode": {
        "name": "ipython",
        "version": 3
      },
      "file_extension": ".py",
      "mimetype": "text/x-python",
      "name": "python",
      "nbconvert_exporter": "python",
      "pygments_lexer": "ipython3",
      "version": "3.12.4"
    }
  },
  "nbformat": 4,
  "nbformat_minor": 0
}
