{
 "cells": [
  {
   "cell_type": "code",
   "execution_count": 2,
   "metadata": {},
   "outputs": [],
   "source": [
    "import pandas as pd\n",
    "employee_data = pd.read_csv(\"../data/Executive_IRS_2024_2023.csv\")"
   ]
  },
  {
   "cell_type": "code",
   "execution_count": 3,
   "metadata": {},
   "outputs": [],
   "source": [
    "all_federal = pd.read_csv(\"../data/grant_details.csv\")"
   ]
  },
  {
   "cell_type": "code",
   "execution_count": 5,
   "metadata": {},
   "outputs": [],
   "source": [
    "all_companies = pd.read_csv(\"../data/final_all_companies.csv\")"
   ]
  },
  {
   "cell_type": "code",
   "execution_count": null,
   "metadata": {},
   "outputs": [],
   "source": [
    "employee_data.rename(columns={'Organization Name':'company_names'}, inplace=True)"
   ]
  },
  {
   "cell_type": "code",
   "execution_count": null,
   "metadata": {},
   "outputs": [],
   "source": [
    "filtered_df_federal = employee_data.merge(all_federal, how=\"inner\", on=\"company_names\")"
   ]
  },
  {
   "cell_type": "code",
   "execution_count": null,
   "metadata": {},
   "outputs": [],
   "source": [
    "federal_list = list(all_federal[\"company_names\"].unique())"
   ]
  },
  {
   "cell_type": "code",
   "execution_count": null,
   "metadata": {},
   "outputs": [],
   "source": [
    "non_federal_list = list(set(all_companies[\"Organization Name\"]) - set(federal_list))"
   ]
  },
  {
   "cell_type": "code",
   "execution_count": null,
   "metadata": {},
   "outputs": [],
   "source": [
    "# filtered_df_federal = employee_data[employee_data[\"Organization Name\"].isin(federal_list)]\n",
    "filtered_df_non_federal = employee_data[employee_data[\"company_names\"].isin(non_federal_list)]"
   ]
  },
  {
   "cell_type": "code",
   "execution_count": null,
   "metadata": {},
   "outputs": [],
   "source": [
    "company_info = pd.read_csv(\"../data/required_columns.csv\")"
   ]
  },
  {
   "cell_type": "code",
   "execution_count": null,
   "metadata": {},
   "outputs": [
    {
     "data": {
      "text/plain": [
       "Index(['index', 'Unique ID', 'Cage', 'Purpose of Registration',\n",
       "       'Registration Date', 'Activation Date', 'Legal Business Name',\n",
       "       'Physical Address', 'City', 'State', 'Zip Code', 'Country Code',\n",
       "       'Entity Structure', 'State of Incorporation', 'Business Type',\n",
       "       'Buyer/Seller Role', 'Govt Credit Card Payment'],\n",
       "      dtype='object')"
      ]
     },
     "metadata": {},
     "output_type": "display_data"
    }
   ],
   "source": [
    "company_info.columns"
   ]
  },
  {
   "cell_type": "code",
   "execution_count": null,
   "metadata": {},
   "outputs": [],
   "source": [
    "# company_info = company_info[[\"BOF PUBLIC V2 00000000 20241201 0852291 0007849\",\"Unnamed: 3\", \"Unnamed: 6\",\"Unnamed: 7\",\"Unnamed: 10\",\"Unnamed: 11\",\"Unnamed: 15\",\"Unnamed: 17\",\"Unnamed: 18\",\"Unnamed: 19\",\"Unnamed: 20\",\"Unnamed: 27\",\"Unnamed: 28\",\"Unnamed: 31\",\"Unnamed: 32\",\"Unnamed: 37\"]]"
   ]
  },
  {
   "cell_type": "code",
   "execution_count": null,
   "metadata": {},
   "outputs": [
    {
     "data": {
      "text/html": [
       "<div>\n",
       "<style scoped>\n",
       "    .dataframe tbody tr th:only-of-type {\n",
       "        vertical-align: middle;\n",
       "    }\n",
       "\n",
       "    .dataframe tbody tr th {\n",
       "        vertical-align: top;\n",
       "    }\n",
       "\n",
       "    .dataframe thead th {\n",
       "        text-align: right;\n",
       "    }\n",
       "</style>\n",
       "<table border=\"1\" class=\"dataframe\">\n",
       "  <thead>\n",
       "    <tr style=\"text-align: right;\">\n",
       "      <th></th>\n",
       "      <th>index</th>\n",
       "      <th>Unique ID</th>\n",
       "      <th>Cage</th>\n",
       "      <th>Purpose of Registration</th>\n",
       "      <th>Registration Date</th>\n",
       "      <th>Activation Date</th>\n",
       "      <th>Legal Business Name</th>\n",
       "      <th>Physical Address</th>\n",
       "      <th>City</th>\n",
       "      <th>State</th>\n",
       "      <th>Zip Code</th>\n",
       "      <th>Country Code</th>\n",
       "      <th>Entity Structure</th>\n",
       "      <th>State of Incorporation</th>\n",
       "      <th>Business Type</th>\n",
       "      <th>Buyer/Seller Role</th>\n",
       "      <th>Govt Credit Card Payment</th>\n",
       "    </tr>\n",
       "  </thead>\n",
       "  <tbody>\n",
       "    <tr>\n",
       "      <th>0</th>\n",
       "      <td>1</td>\n",
       "      <td>C111ATT311C8</td>\n",
       "      <td>53YC5</td>\n",
       "      <td>Z2</td>\n",
       "      <td>20131112.0</td>\n",
       "      <td>20240627.0</td>\n",
       "      <td>K &amp; K CONSTRUCTION SUPPLY INC</td>\n",
       "      <td>11400 WHITE ROCK RD</td>\n",
       "      <td>RANCHO CORDOVA</td>\n",
       "      <td>CA</td>\n",
       "      <td>95742</td>\n",
       "      <td>USA</td>\n",
       "      <td>2L</td>\n",
       "      <td>NV</td>\n",
       "      <td>2X~8W~A2~HQ~XS</td>\n",
       "      <td>423390.0</td>\n",
       "      <td>Y</td>\n",
       "    </tr>\n",
       "    <tr>\n",
       "      <th>1</th>\n",
       "      <td>2</td>\n",
       "      <td>C111BG66D155</td>\n",
       "      <td>6M9A6</td>\n",
       "      <td>Z1</td>\n",
       "      <td>20111228.0</td>\n",
       "      <td>20240726.0</td>\n",
       "      <td>NEW ADVANCES FOR PEOPLE WITH DISABILITIES</td>\n",
       "      <td>3400 N SILLECT AVE</td>\n",
       "      <td>BAKERSFIELD</td>\n",
       "      <td>CA</td>\n",
       "      <td>93308</td>\n",
       "      <td>USA</td>\n",
       "      <td>8H</td>\n",
       "      <td>CA</td>\n",
       "      <td>A8</td>\n",
       "      <td>NaN</td>\n",
       "      <td>Y</td>\n",
       "    </tr>\n",
       "    <tr>\n",
       "      <th>2</th>\n",
       "      <td>3</td>\n",
       "      <td>C111FE1KRJF1</td>\n",
       "      <td>6T4Q4</td>\n",
       "      <td>Z1</td>\n",
       "      <td>20121105.0</td>\n",
       "      <td>20241127.0</td>\n",
       "      <td>RIDE ON ST. LOUIS, INC.</td>\n",
       "      <td>5 N LAKE DR</td>\n",
       "      <td>HILLSBORO</td>\n",
       "      <td>MO</td>\n",
       "      <td>63050</td>\n",
       "      <td>USA</td>\n",
       "      <td>8H</td>\n",
       "      <td>MO</td>\n",
       "      <td>A8</td>\n",
       "      <td>NaN</td>\n",
       "      <td>Y</td>\n",
       "    </tr>\n",
       "    <tr>\n",
       "      <th>3</th>\n",
       "      <td>4</td>\n",
       "      <td>C111JJBMS328</td>\n",
       "      <td>6PA87</td>\n",
       "      <td>Z2</td>\n",
       "      <td>20120309.0</td>\n",
       "      <td>20240808.0</td>\n",
       "      <td>EMERZIAN WOODWORKING, INC.</td>\n",
       "      <td>2555 N ARGYLE AVE</td>\n",
       "      <td>FRESNO</td>\n",
       "      <td>CA</td>\n",
       "      <td>93727</td>\n",
       "      <td>USA</td>\n",
       "      <td>2L</td>\n",
       "      <td>CA</td>\n",
       "      <td>2X~MF</td>\n",
       "      <td>238350.0</td>\n",
       "      <td>Y</td>\n",
       "    </tr>\n",
       "  </tbody>\n",
       "</table>\n",
       "</div>"
      ],
      "text/plain": [
       "   index     Unique ID   Cage Purpose of Registration  Registration Date  \\\n",
       "0      1  C111ATT311C8  53YC5                      Z2         20131112.0   \n",
       "1      2  C111BG66D155  6M9A6                      Z1         20111228.0   \n",
       "2      3  C111FE1KRJF1  6T4Q4                      Z1         20121105.0   \n",
       "3      4  C111JJBMS328  6PA87                      Z2         20120309.0   \n",
       "\n",
       "   Activation Date                        Legal Business Name  \\\n",
       "0       20240627.0              K & K CONSTRUCTION SUPPLY INC   \n",
       "1       20240726.0  NEW ADVANCES FOR PEOPLE WITH DISABILITIES   \n",
       "2       20241127.0                    RIDE ON ST. LOUIS, INC.   \n",
       "3       20240808.0                 EMERZIAN WOODWORKING, INC.   \n",
       "\n",
       "      Physical Address            City State Zip Code Country Code  \\\n",
       "0  11400 WHITE ROCK RD  RANCHO CORDOVA    CA    95742          USA   \n",
       "1   3400 N SILLECT AVE     BAKERSFIELD    CA    93308          USA   \n",
       "2          5 N LAKE DR       HILLSBORO    MO    63050          USA   \n",
       "3    2555 N ARGYLE AVE          FRESNO    CA    93727          USA   \n",
       "\n",
       "  Entity Structure State of Incorporation   Business Type  Buyer/Seller Role  \\\n",
       "0               2L                     NV  2X~8W~A2~HQ~XS           423390.0   \n",
       "1               8H                     CA              A8                NaN   \n",
       "2               8H                     MO              A8                NaN   \n",
       "3               2L                     CA           2X~MF           238350.0   \n",
       "\n",
       "  Govt Credit Card Payment  \n",
       "0                        Y  \n",
       "1                        Y  \n",
       "2                        Y  \n",
       "3                        Y  "
      ]
     },
     "metadata": {},
     "output_type": "display_data"
    }
   ],
   "source": [
    "company_info.head(4)"
   ]
  },
  {
   "cell_type": "code",
   "execution_count": null,
   "metadata": {},
   "outputs": [],
   "source": [
    "# company_info.rename(columns={\"BOF PUBLIC V2 00000000 20241201 0852291 0007849\":\"uei\",\"Unnamed: 3\":\"Cage code\", \"Unnamed: 6\":\"PORegistration\",\"Unnamed: 7\":\"Registration_date\",\"Unnamed: 10\":\"Activation_date\",\"Unnamed: 11\":\"Legal_Business_Name\",\"Unnamed: 15\":\"Physical Address\",\"Unnamed: 17\":\"City_name\",\"Unnamed: 18\":\"State\",\"Unnamed: 19\":\"Zipcode\",\"Unnamed: 20\":\"Country_code\",\"Unnamed: 27\":\"Entity_Structure\",\"Unnamed: 28\":\"State_of_Incorporation\",\"Unnamed: 31\":\"Bus_type_string\",\"Unnamed: 32\":\"Buyer, seller\",\"Unnamed: 37\":\"government_credit_card\"}, inplace=True)"
   ]
  },
  {
   "cell_type": "code",
   "execution_count": null,
   "metadata": {},
   "outputs": [],
   "source": [
    "company_info.rename(columns={\"Unique ID\":\"uei\"}, inplace=True)"
   ]
  },
  {
   "cell_type": "code",
   "execution_count": null,
   "metadata": {},
   "outputs": [
    {
     "data": {
      "text/plain": [
       "Index(['company_names', 'EIN', 'Executive Name', 'Title',\n",
       "       'Base Compensation ($)', 'Bonus Compensation ($)',\n",
       "       'Other Compensation ($)', 'Total Compensation ($)', 'Source File',\n",
       "       'year', 'uei', 'grants'],\n",
       "      dtype='object')"
      ]
     },
     "metadata": {},
     "output_type": "display_data"
    }
   ],
   "source": [
    "filtered_df_federal.columns"
   ]
  },
  {
   "cell_type": "code",
   "execution_count": null,
   "metadata": {},
   "outputs": [],
   "source": [
    "filtered_df_federal = filtered_df_federal.merge(company_info, how=\"inner\", on=\"uei\")"
   ]
  },
  {
   "cell_type": "code",
   "execution_count": null,
   "metadata": {},
   "outputs": [],
   "source": [
    "filtered_df_federal.to_csv(\"../data/federal_company_data.csv\")"
   ]
  },
  {
   "cell_type": "code",
   "execution_count": null,
   "metadata": {},
   "outputs": [],
   "source": [
    "company_info.rename(columns={\"Legal_Business_Name\":\"company_names\"}, inplace=True)"
   ]
  },
  {
   "cell_type": "code",
   "execution_count": null,
   "metadata": {},
   "outputs": [],
   "source": [
    "filtered_df_non_federal = filtered_df_non_federal.merge(company_info, how=\"inner\", on=\"company_names\")"
   ]
  },
  {
   "cell_type": "code",
   "execution_count": null,
   "metadata": {},
   "outputs": [],
   "source": [
    "filtered_df_federal.describe(percentiles=[0.1, 0.25, 0.5, 0.75, 0.95])"
   ]
  }
 ],
 "metadata": {
  "kernelspec": {
   "display_name": "Python 3",
   "language": "python",
   "name": "python3"
  },
  "language_info": {
   "codemirror_mode": {
    "name": "ipython",
    "version": 3
   },
   "file_extension": ".py",
   "mimetype": "text/x-python",
   "name": "python",
   "nbconvert_exporter": "python",
   "pygments_lexer": "ipython3",
   "version": "3.11.9"
  }
 },
 "nbformat": 4,
 "nbformat_minor": 2
}
